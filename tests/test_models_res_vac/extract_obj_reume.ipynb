{
 "cells": [
  {
   "cell_type": "code",
   "execution_count": 1,
   "id": "d565daee",
   "metadata": {},
   "outputs": [
    {
     "name": "stdout",
     "output_type": "stream",
     "text": [
      "Перейдите по ссылке, авторизуйтесь, и вас перенаправит сюда с ?code=…:\n",
      "https://hh.ru/oauth/authorize?response_type=code&client_id=J58PIDNM3UQCNE85UVRMSSIO7F8HUNGD7KPNR9004IK3LIKE6GNBAPDBIDHMOUH1&redirect_uri=https%3A%2F%2Fai-resume-oauth-server.onrender.com%2Fcallback&state=12345\n"
     ]
    }
   ],
   "source": [
    "import urllib.parse\n",
    "\n",
    "CLIENT_ID = \"J58PIDNM3UQCNE85UVRMSSIO7F8HUNGD7KPNR9004IK3LIKE6GNBAPDBIDHMOUH1\"\n",
    "REDIRECT_URI = \"https://ai-resume-oauth-server.onrender.com/callback\"\n",
    "STATE = \"12345\"  # любая строка для защиты от CSRF\n",
    "\n",
    "params = {\n",
    "    \"response_type\": \"code\",\n",
    "    \"client_id\": CLIENT_ID,\n",
    "    \"redirect_uri\": REDIRECT_URI,\n",
    "    \"state\": STATE\n",
    "}\n",
    "auth_url = \"https://hh.ru/oauth/authorize?\" + urllib.parse.urlencode(params)\n",
    "print(\"Перейдите по ссылке, авторизуйтесь, и вас перенаправит сюда с ?code=…:\")\n",
    "print(auth_url)\n"
   ]
  },
  {
   "cell_type": "code",
   "execution_count": 2,
   "id": "e9c38307",
   "metadata": {},
   "outputs": [
    {
     "name": "stdout",
     "output_type": "stream",
     "text": [
      "{'access_token': 'USERLVMNFD8ENI5SLFSERIQ445AVCIP4V4908EDSN534B03QOJPKTNQK2Q5H62TJ', 'token_type': 'bearer', 'refresh_token': 'USERR67J0KNH7JGHEB7STQIEVCGGVG1QGF54LVQ6D2PLU0A62KJ948PD5B22SN9E', 'expires_in': 1209599}\n"
     ]
    }
   ],
   "source": [
    "import requests\n",
    "\n",
    "def get_tokens(auth_code):\n",
    "    data = {\n",
    "        \"grant_type\": \"authorization_code\",\n",
    "        \"client_id\": CLIENT_ID,\n",
    "        \"client_secret\": \"IGBU6EJV14587HUCAAJRRC0B63SNSUDL7J2PR39RR438SPECU64LAQ15EVNEJLL2\",\n",
    "        \"code\": auth_code,\n",
    "        \"redirect_uri\": REDIRECT_URI\n",
    "    }\n",
    "    resp = requests.post(\"https://hh.ru/oauth/token\", data=data)\n",
    "    resp.raise_for_status()\n",
    "    tokens = resp.json()\n",
    "    # tokens: {\"access_token\": \"...\", \"refresh_token\": \"...\", \"expires_in\": ...}\n",
    "    return tokens\n",
    "\n",
    "# Вставьте сюда полученный code\n",
    "auth_code = \"U17FPIR9E3H3BU7OCMUNU2N523000HKO7GQ6R6O7LM55103TOVMKLFM1JRBO2UAN\"\n",
    "tokens = get_tokens(auth_code)\n",
    "print(tokens)\n"
   ]
  },
  {
   "cell_type": "code",
   "execution_count": 3,
   "id": "f53ac99a",
   "metadata": {},
   "outputs": [
    {
     "name": "stdout",
     "output_type": "stream",
     "text": [
      "{'items': [{'last_name': 'Немов', 'first_name': 'Максим', 'middle_name': 'Юрьевич', 'title': 'NLP LLM Engineer', 'created_at': '2025-06-04T08:19:15+0300', 'updated_at': '2025-07-10T13:43:24+0300', 'area': {'id': '1', 'name': 'Москва', 'url': 'https://api.hh.ru/areas/1'}, 'age': 24, 'gender': {'id': 'male', 'name': 'Мужской'}, 'salary': {'amount': 250000, 'currency': 'RUR'}, 'photo': {'id': '184744592', 'small': 'https://img.hhcdn.ru/photo/788192684.jpeg?t=1752231826&h=fKYXVUanQenT7fbIaFPlEg', 'medium': 'https://img.hhcdn.ru/photo/788192685.jpeg?t=1752231826&h=8z2LrBLt9kUMIELE3Kqhzg', '40': 'https://img.hhcdn.ru/photo/788192683.jpeg?t=1752231826&h=1ylBHkJPlZErEsg-AA98SQ', '100': 'https://img.hhcdn.ru/photo/788192684.jpeg?t=1752231826&h=fKYXVUanQenT7fbIaFPlEg', '500': 'https://img.hhcdn.ru/photo/788192685.jpeg?t=1752231826&h=8z2LrBLt9kUMIELE3Kqhzg'}, 'total_experience': {'months': 41}, 'certificate': [{'owner': None, 'type': 'custom', 'title': 'Специализиция \"Data Engineering\"', 'achieved_at': '2025-01-01', 'url': 'https://coursera.org/share/14fa929b753068ffaa46c93f5162843e'}, {'owner': None, 'type': 'custom', 'title': 'GPT Week от Школы анализа данных', 'achieved_at': '2024-01-01', 'url': 'https://lyceum.s3.yandex.net/gpt_certs/1345_НемовМаксимЮрьевич.pdf?m-message-key-id=-4854880391446593536&m-message-click-id=cc265509-06fa-4272-9a78-db60cc777937&utm_source=mindbox&utm_medium=email&utm_campaign=gptweek23&utm_content=post2612'}], 'hidden_fields': [], 'actions': {'download': {'pdf': {'url': 'https://api.hh.ru/resumes/77111a28ff0eed02270039ed1f7871436c3845/download/%D0%9D%D0%B5%D0%BC%D0%BE%D0%B2%20%D0%9C%D0%B0%D0%BA%D1%81%D0%B8%D0%BC%20%D0%AE%D1%80%D1%8C%D0%B5%D0%B2%D0%B8%D1%87.pdf?type=pdf'}, 'rtf': {'url': 'https://api.hh.ru/resumes/77111a28ff0eed02270039ed1f7871436c3845/download/%D0%9D%D0%B5%D0%BC%D0%BE%D0%B2%20%D0%9C%D0%B0%D0%BA%D1%81%D0%B8%D0%BC%20%D0%AE%D1%80%D1%8C%D0%B5%D0%B2%D0%B8%D1%87.rtf?type=rtf'}}}, 'url': 'https://api.hh.ru/resumes/77111a28ff0eed02270039ed1f7871436c3845', 'alternate_url': 'https://hh.ru/resume/77111a28ff0eed02270039ed1f7871436c3845', 'id': '77111a28ff0eed02270039ed1f7871436c3845', 'download': {'pdf': {'url': 'https://api.hh.ru/resumes/77111a28ff0eed02270039ed1f7871436c3845/download/%D0%9D%D0%B5%D0%BC%D0%BE%D0%B2%20%D0%9C%D0%B0%D0%BA%D1%81%D0%B8%D0%BC%20%D0%AE%D1%80%D1%8C%D0%B5%D0%B2%D0%B8%D1%87.pdf?type=pdf'}, 'rtf': {'url': 'https://api.hh.ru/resumes/77111a28ff0eed02270039ed1f7871436c3845/download/%D0%9D%D0%B5%D0%BC%D0%BE%D0%B2%20%D0%9C%D0%B0%D0%BA%D1%81%D0%B8%D0%BC%20%D0%AE%D1%80%D1%8C%D0%B5%D0%B2%D0%B8%D1%87.rtf?type=rtf'}}, 'platform': {'id': 'headhunter'}, 'real_id': '250413607', 'education': {'level': {'id': 'higher', 'name': 'Высшее'}, 'primary': [{'id': '373428440', 'name': 'Пензенский государственный университет, Пенза', 'organization': 'Факультет приборостроения, информационных технологий и систем', 'result': 'Автоматизация технологических процессов и производств (по отраслям)', 'year': 2016, 'university_acronym': 'ПГУ', 'name_id': '40913', 'organization_id': '26195', 'result_id': None, 'education_level': {'id': 'higher', 'name': 'Высшее'}}]}, 'experience': [{'start': '2024-05-01', 'end': None, 'company': 'Союзснаб', 'company_id': '2288', 'industry': {'id': '34', 'name': 'Химическое производство, удобрения'}, 'industries': [{'id': '34.417', 'name': 'Агрохимия (продвижение, оптовая торговля)'}, {'id': '27.563', 'name': 'Корма для животных (продвижение, оптовая торговля)'}, {'id': '27.562', 'name': 'Корма для животных (производство)'}, {'id': '29.533', 'name': 'Сельскохозяйственная продукция (продвижение, оптовая торговля)'}, {'id': '29.531', 'name': 'Земледелие, растениеводство, животноводство'}], 'area': {'id': '1', 'name': 'Москва', 'url': 'https://api.hh.ru/areas/1'}, 'company_url': 'http://www.ssnab.ru/', 'employer': {'id': '2288', 'name': 'Союзснаб', 'url': 'https://api.hh.ru/employers/2288', 'alternate_url': 'https://hh.ru/employer/2288', 'logo_urls': {'90': 'https://img.hhcdn.ru/employer-logo/6207053.png', 'original': 'https://img.hhcdn.ru/employer-logo-original/1146622.png', '240': 'https://img.hhcdn.ru/employer-logo/6207054.png'}}, 'position': 'AI engineer'}, {'start': '2023-05-01', 'end': '2024-05-01', 'company': 'Академия астрологии Ирины Чайки', 'company_id': None, 'industry': None, 'industries': [{'id': '39.446', 'name': 'Тренинговые компании'}, {'id': '39.449', 'name': 'Обучение искусствам (рисование, пение, танцы, фото)'}], 'area': {'id': '1', 'name': 'Москва', 'url': 'https://api.hh.ru/areas/1'}, 'company_url': 'https://astrologchayka.ru/academy', 'employer': None}, {'start': '2022-03-01', 'end': '2023-04-01', 'company': 'Фриланс проекты', 'company_id': None, 'industry': None, 'industries': [{'id': '7.540', 'name': 'Разработка программного обеспечения'}], 'area': {'id': '1', 'name': 'Москва', 'url': 'https://api.hh.ru/areas/1'}, 'company_url': None, 'employer': None}], 'marked': False, 'finished': True, 'status': {'id': 'published', 'name': 'опубликовано'}, 'access': {'type': {'id': 'clients', 'name': 'Видно всем работодателям, зарегистрированным на hh.ru'}}, 'paid_services': [{'id': 'resume_autoupdating', 'name': 'Автоподнятие резюме', 'active': False}, {'id': 'resume_marked', 'name': 'Яркое резюме', 'active': False}], 'blocked': False, 'can_publish_or_update': False, 'next_publish_at': '2025-07-10T17:43:24+0300', 'contact': [{'value': {'country': '7', 'city': '987', 'number': '5056990', 'formatted': '+7 987 505-69-90'}, 'type': {'id': 'cell', 'name': 'Мобильный телефон'}, 'preferred': True, 'comment': None, 'need_verification': False, 'verified': True}, {'type': {'id': 'email', 'name': 'Эл. почта'}, 'value': 'aangers07@gmail.com', 'preferred': False}], 'tags': [], 'visible': True, 'created': '2025-06-04T08:19:15+0300', 'updated': '2025-07-10T13:43:24+0300', 'similar_vacancies': {'url': 'https://api.hh.ru/resumes/77111a28ff0eed02270039ed1f7871436c3845/similar_vacancies', 'counters': {'total': 1579}}, 'new_views': 1, 'total_views': 21, 'views_url': 'https://api.hh.ru/resumes/77111a28ff0eed02270039ed1f7871436c3845/views'}], 'found': 1, 'pages': 1, 'page': 0, 'per_page': 1}\n"
     ]
    }
   ],
   "source": [
    "def get_my_resumes(access_token):\n",
    "    url = \"https://api.hh.ru/resumes/mine\"\n",
    "    headers = {\"Authorization\": f\"Bearer {access_token}\"}\n",
    "    resp = requests.get(url, headers=headers)\n",
    "    resp.raise_for_status()\n",
    "    return resp.json()\n",
    "\n",
    "resumes_data = get_my_resumes(tokens[\"access_token\"])\n",
    "print(resumes_data)\n"
   ]
  },
  {
   "cell_type": "code",
   "execution_count": 4,
   "id": "37e7400e",
   "metadata": {},
   "outputs": [],
   "source": [
    "import json\n",
    "\n",
    "def get_resume_by_id(access_token, resume_id):\n",
    "    url = f\"https://api.hh.ru/resumes/{resume_id}\"\n",
    "    headers = {\"Authorization\": f\"Bearer {access_token}\"}\n",
    "    resp = requests.get(url, headers=headers)\n",
    "    resp.raise_for_status()\n",
    "    return resp.json()\n",
    "\n",
    "# Пример использования\n",
    "resume_id = resumes_data[\"items\"][0][\"id\"]\n",
    "resume_obj = get_resume_by_id(tokens[\"access_token\"], resume_id)\n",
    "\n",
    "# Сохраним в файл\n",
    "with open(\"resume_nlp.json\", \"w\", encoding=\"utf-8\") as f:\n",
    "    json.dump(resume_obj, f, ensure_ascii=False, indent=2)\n"
   ]
  },
  {
   "cell_type": "code",
   "execution_count": null,
   "id": "1b7cbd5b",
   "metadata": {},
   "outputs": [],
   "source": []
  },
  {
   "cell_type": "code",
   "execution_count": null,
   "id": "e4030628",
   "metadata": {},
   "outputs": [],
   "source": []
  },
  {
   "cell_type": "code",
   "execution_count": null,
   "id": "07026194",
   "metadata": {},
   "outputs": [],
   "source": []
  }
 ],
 "metadata": {
  "kernelspec": {
   "display_name": "Python (semantic_venv)",
   "language": "python",
   "name": "semantic_venv"
  },
  "language_info": {
   "codemirror_mode": {
    "name": "ipython",
    "version": 3
   },
   "file_extension": ".py",
   "mimetype": "text/x-python",
   "name": "python",
   "nbconvert_exporter": "python",
   "pygments_lexer": "ipython3",
   "version": "3.12.8"
  }
 },
 "nbformat": 4,
 "nbformat_minor": 5
}
