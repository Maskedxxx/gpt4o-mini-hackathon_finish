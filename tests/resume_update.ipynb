{
 "cells": [
  {
   "cell_type": "code",
   "execution_count": 1,
   "id": "f2a462c2",
   "metadata": {},
   "outputs": [
    {
     "name": "stderr",
     "output_type": "stream",
     "text": [
      "2025-05-18 12:12:39,724 - INFO - states - <module> - Инициализация состояний пользователя\n",
      "2025-05-18 12:12:39,725 - INFO - text_constants - <module> - Инициализация словарей с текстами сообщений\n"
     ]
    },
    {
     "name": "stdout",
     "output_type": "stream",
     "text": [
      "Оригинальное резюме существует: True\n",
      "Обновленное резюме существует: True\n",
      "Данные оригинального резюме успешно загружены\n",
      "Данные обновленного резюме успешно загружены\n",
      "ID резюме: 6d807532ff0ed6b79f0039ed1f63386d724a62\n"
     ]
    }
   ],
   "source": [
    "import json\n",
    "import sys\n",
    "import copy\n",
    "import asyncio\n",
    "from pathlib import Path\n",
    "\n",
    "# Добавляем корневую директорию проекта в пути импорта\n",
    "project_root = Path.cwd().parent\n",
    "sys.path.append(str(project_root))\n",
    "\n",
    "# Импортируем необходимые модули\n",
    "from src.hh.api_client import HHApiClient\n",
    "from src.tg_bot.handlers.spec_handlers.resume_update_handler import _prepare_hh_api_payload\n",
    "\n",
    "# Пути к файлам\n",
    "original_resume_path = Path(\"tests/fetched_resume_6d807532ff0ed6b79f0039ed1f63386d724a62.json\")\n",
    "updated_resume_path = Path(\"updated_resume_result.json\")  # Путь к файлу с обновленным LLM резюме\n",
    "\n",
    "# Проверяем наличие файлов\n",
    "print(f\"Оригинальное резюме существует: {original_resume_path.exists()}\")\n",
    "print(f\"Обновленное резюме существует: {updated_resume_path.exists()}\")\n",
    "\n",
    "# Загружаем данные\n",
    "with open(original_resume_path, 'r', encoding='utf-8') as f:\n",
    "    original_resume_data = json.load(f)\n",
    "print(\"Данные оригинального резюме успешно загружены\")\n",
    "\n",
    "with open(updated_resume_path, 'r', encoding='utf-8') as f:\n",
    "    updated_resume_data = json.load(f)\n",
    "print(\"Данные обновленного резюме успешно загружены\")\n",
    "\n",
    "# Получаем ID резюме из оригинальных данных\n",
    "resume_id = original_resume_data.get(\"id\")\n",
    "if not resume_id:\n",
    "    print(\"❌ Ошибка: Не удалось получить ID резюме из оригинальных данных\")\n",
    "else:\n",
    "    print(f\"ID резюме: {resume_id}\")"
   ]
  },
  {
   "cell_type": "code",
   "execution_count": 2,
   "id": "1f2e8d28",
   "metadata": {},
   "outputs": [],
   "source": [
    "access_token = \"USERJRKKJDHGBRNQB1VEOOI9MVVAF8Q542P7E3MP5FA3TKCJJGVCK2S48KUUP4GR\"\n",
    "refresh_token = \"USERULA5I428ICTFPTQ5ESH330LVJ1FUGT63ICQV3U95R63IJFB6ORKNK2PVE1SC\""
   ]
  },
  {
   "cell_type": "code",
   "execution_count": 3,
   "id": "9061674c",
   "metadata": {},
   "outputs": [
    {
     "name": "stderr",
     "output_type": "stream",
     "text": [
      "2025-05-18 12:12:46,169 - WARNING - resume_update_handler - _prepare_hh_api_payload - LLM предложил изменения для 'professional_roles' резюме 6d807532ff0ed6b79f0039ed1f63386d724a62, но они будут проигнорированы, так как требуется поле 'id' для каждой роли.\n",
      "2025-05-18 12:12:46,171 - INFO - resume_update_handler - _clean_payload - Удаление устаревшего поля 'specialization' из payload для резюме 6d807532ff0ed6b79f0039ed1f63386d724a62\n",
      "2025-05-18 12:12:46,172 - WARNING - resume_update_handler - _clean_payload - Поле 'employment_form' некорректно в payload для резюме 6d807532ff0ed6b79f0039ed1f63386d724a62. Установка значения по умолчанию: {'id': 'full'}.\n"
     ]
    },
    {
     "name": "stdout",
     "output_type": "stream",
     "text": [
      "\n",
      "=== ПОДГОТОВКА ДАННЫХ ДЛЯ ОТПРАВКИ НА HH.RU ===\n",
      "\n",
      "Подготовленный payload для API HH.ru:\n",
      "{\n",
      "  \"last_name\": \"Немов\",\n",
      "  \"first_name\": \"Максим\",\n",
      "  \"middle_name\": \"Юрьевич\",\n",
      "  \"title\": \"ML Engineer / NLP Specialist\",\n",
      "  \"created_at\": \"2025-05-16T08:25:26+0300\"\n",
      "}...\n",
      "\n",
      "=== ОТПРАВКА ЗАПРОСА НА ОБНОВЛЕНИЕ РЕЗЮМЕ ===\n"
     ]
    },
    {
     "name": "stderr",
     "output_type": "stream",
     "text": [
      "2025-05-18 12:12:48,615 - INFO - hh_api_client - request - Запрос: PUT https://api.hh.ru/resumes/6d807532ff0ed6b79f0039ed1f63386d724a62, Статус: 204\n"
     ]
    },
    {
     "name": "stdout",
     "output_type": "stream",
     "text": [
      "\n",
      "✅ Резюме успешно обновлено на HH.ru! (Получен ответ 204 No Content)\n",
      "\n",
      "=== ПОЛУЧЕНИЕ ОБНОВЛЕННОГО РЕЗЮМЕ С СЕРВЕРА ===\n"
     ]
    },
    {
     "name": "stderr",
     "output_type": "stream",
     "text": [
      "2025-05-18 12:12:50,100 - INFO - hh_api_client - request - Запрос: GET https://api.hh.ru/resumes/6d807532ff0ed6b79f0039ed1f63386d724a62, Статус: 200\n"
     ]
    },
    {
     "name": "stdout",
     "output_type": "stream",
     "text": [
      "Обновленное резюме с HH.ru сохранено в файл: hh_updated_resume.json\n",
      "\n",
      "Основные поля обновленного резюме:\n",
      "Должность: ML Engineer / NLP Specialist\n",
      "Навыки (превью): Специалист с глубокими знаниями в области NLP и LLM, включая методы fine-tuning и разработку RAG-сис...\n",
      "Ключевые навыки (26): PyTorch, Hugging Face Transformers, LangChain, Chroma, Pinecone...\n"
     ]
    }
   ],
   "source": [
    "if not access_token or not refresh_token:\n",
    "    print(\"❌ Ошибка: Не указаны токены доступа\")\n",
    "else:\n",
    "    # Асинхронная функция для обновления резюме\n",
    "    async def update_resume_on_hh():\n",
    "        try:\n",
    "            print(\"\\n=== ПОДГОТОВКА ДАННЫХ ДЛЯ ОТПРАВКИ НА HH.RU ===\")\n",
    "            \n",
    "            # Подготавливаем payload для API HH.ru\n",
    "            prepared_payload = _prepare_hh_api_payload(\n",
    "                original_resume_data, updated_resume_data, resume_id\n",
    "            )\n",
    "            \n",
    "            # Вывод payload для проверки (можно закомментировать в продакшене)\n",
    "            print(\"\\nПодготовленный payload для API HH.ru:\")\n",
    "            payload_preview = {k: v for k, v in list(prepared_payload.items())[:5]}  # Показываем только первые 5 полей\n",
    "            print(json.dumps(payload_preview, ensure_ascii=False, indent=2) + \"...\")\n",
    "            \n",
    "            print(\"\\n=== ОТПРАВКА ЗАПРОСА НА ОБНОВЛЕНИЕ РЕЗЮМЕ ===\")\n",
    "            \n",
    "            # Создаем клиент API\n",
    "            hh_client = HHApiClient(access_token, refresh_token)\n",
    "            \n",
    "            # Выполняем запрос к API для обновления резюме\n",
    "            api_response = await hh_client.request(\n",
    "                endpoint=f'resumes/{resume_id}',\n",
    "                method='PUT',\n",
    "                data=prepared_payload\n",
    "            )\n",
    "            \n",
    "            # Проверяем ответ\n",
    "            if not api_response:  # Для методов, возвращающих 204 No Content\n",
    "                print(\"\\n✅ Резюме успешно обновлено на HH.ru! (Получен ответ 204 No Content)\")\n",
    "            else:\n",
    "                print(f\"\\n✅ Резюме обновлено. Ответ API: {api_response}\")\n",
    "            \n",
    "            # Для получения обновленных данных резюме\n",
    "            print(\"\\n=== ПОЛУЧЕНИЕ ОБНОВЛЕННОГО РЕЗЮМЕ С СЕРВЕРА ===\")\n",
    "            updated_resume_from_hh = await hh_client.request(\n",
    "                endpoint=f'resumes/{resume_id}',\n",
    "                method='GET'\n",
    "            )\n",
    "            \n",
    "            if updated_resume_from_hh:\n",
    "                # Сохраняем обновленное резюме с сервера для проверки\n",
    "                updated_resume_from_hh_path = Path(\"hh_updated_resume.json\")\n",
    "                with open(updated_resume_from_hh_path, 'w', encoding='utf-8') as f:\n",
    "                    json.dump(updated_resume_from_hh, f, ensure_ascii=False, indent=2)\n",
    "                print(f\"Обновленное резюме с HH.ru сохранено в файл: {updated_resume_from_hh_path}\")\n",
    "                \n",
    "                # Выводим основные поля для быстрой проверки\n",
    "                print(\"\\nОсновные поля обновленного резюме:\")\n",
    "                print(f\"Должность: {updated_resume_from_hh.get('title', 'Н/Д')}\")\n",
    "                \n",
    "                skills_preview = updated_resume_from_hh.get('skills', 'Н/Д')\n",
    "                if len(skills_preview) > 100:\n",
    "                    skills_preview = skills_preview[:100] + \"...\"\n",
    "                print(f\"Навыки (превью): {skills_preview}\")\n",
    "                \n",
    "                skill_set = updated_resume_from_hh.get('skill_set', [])\n",
    "                print(f\"Ключевые навыки ({len(skill_set)}): {', '.join(skill_set[:5])}...\")\n",
    "            \n",
    "        except Exception as e:\n",
    "            print(f\"\\n❌ Ошибка при обновлении резюме: {e}\")\n",
    "\n",
    "    # Запускаем асинхронную функцию\n",
    "    await update_resume_on_hh()"
   ]
  },
  {
   "cell_type": "code",
   "execution_count": null,
   "id": "b18a3d37",
   "metadata": {},
   "outputs": [],
   "source": []
  },
  {
   "cell_type": "code",
   "execution_count": null,
   "id": "8640682d",
   "metadata": {},
   "outputs": [],
   "source": []
  },
  {
   "cell_type": "code",
   "execution_count": null,
   "id": "539e549a",
   "metadata": {},
   "outputs": [],
   "source": []
  }
 ],
 "metadata": {
  "kernelspec": {
   "display_name": "Python (semantic_venv)",
   "language": "python",
   "name": "semantic_venv"
  },
  "language_info": {
   "codemirror_mode": {
    "name": "ipython",
    "version": 3
   },
   "file_extension": ".py",
   "mimetype": "text/x-python",
   "name": "python",
   "nbconvert_exporter": "python",
   "pygments_lexer": "ipython3",
   "version": "3.12.8"
  }
 },
 "nbformat": 4,
 "nbformat_minor": 5
}
